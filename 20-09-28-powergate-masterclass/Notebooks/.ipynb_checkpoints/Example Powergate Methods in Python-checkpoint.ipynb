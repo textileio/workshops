{
 "cells": [
  {
   "cell_type": "code",
   "execution_count": 78,
   "metadata": {},
   "outputs": [],
   "source": [
    "from pygate_grpc.client import PowerGateClient"
   ]
  },
  {
   "cell_type": "code",
   "execution_count": 81,
   "metadata": {},
   "outputs": [
    {
     "name": "stdout",
     "output_type": "stream",
     "text": [
      "CLI: > pow health\n",
      "status: STATUS_OK\n",
      "\n"
     ]
    }
   ],
   "source": [
    "client = PowerGateClient(\"127.0.0.1:5002\")\n",
    "\n",
    "healthcheck = client.health.check()\n",
    "\n",
    "print(\"CLI: > pow health\")\n",
    "print(\"SUCCESS:\")\n",
    "print(healthcheck)"
   ]
  },
  {
   "cell_type": "code",
   "execution_count": 82,
   "metadata": {},
   "outputs": [
    {
     "name": "stdout",
     "output_type": "stream",
     "text": [
      "Creating a new FFS:\n",
      "CLI: > pow ffs create\n",
      "id: \"5e26b854-6926-44ac-b583-18d23a5bf4e7\"\n",
      "token: \"531532e6-80e3-446e-9b44-1d677a9f6824\"\n",
      "\n"
     ]
    }
   ],
   "source": [
    "print(\"Creating a new FFS:\")\n",
    "ffs = client.ffs.create()\n",
    "\n",
    "print(\"CLI: > pow ffs create\")\n",
    "print(\"SUCCESS:\")\n",
    "print(ffs)"
   ]
  },
  {
   "cell_type": "code",
   "execution_count": 83,
   "metadata": {},
   "outputs": [
    {
     "name": "stdout",
     "output_type": "stream",
     "text": [
      "CLI: > pow ffs config default -t 531532e6-80e3-446e-9b44-1d677a9f6824\n",
      "SUCCESS:\n",
      "default_storage_config {\n",
      "  hot {\n",
      "    enabled: true\n",
      "  }\n",
      "  cold {\n",
      "    enabled: true\n",
      "    filecoin {\n",
      "      rep_factor: 1\n",
      "      deal_min_duration: 518400\n",
      "      renew {\n",
      "      }\n",
      "      addr: \"t3sgfdssmya2eswai4yclxh6qjll3ib2ar344kds3gvhr4nurvei5pm5ehnj6ivswtfw24jdkvisju3hog3hpq\"\n",
      "    }\n",
      "  }\n",
      "}\n",
      "\n"
     ]
    }
   ],
   "source": [
    "defaultConfig = client.ffs.default_config(ffs.token)\n",
    "\n",
    "print(\"CLI: > pow ffs config default -t \" + ffs.token)\n",
    "print(\"SUCCESS:\")\n",
    "print(defaultConfig)\n",
    "\n",
    "# note POWD_FFSMINERSELECTOR=reputation"
   ]
  },
  {
   "cell_type": "code",
   "execution_count": 84,
   "metadata": {},
   "outputs": [
    {
     "name": "stdout",
     "output_type": "stream",
     "text": [
      "CLI: > pow ffs stage structured/images.json -t 531532e6-80e3-446e-9b44-1d677a9f6824\n",
      "SUCCESS:\n",
      "cid: \"QmbG4Ecbx9MVMn3UKtUzegm7ScuMzjTxAG7h9zYRuffhyY\"\n",
      "\n"
     ]
    }
   ],
   "source": [
    "from pygate_grpc.ffs import get_file_bytes, bytes_to_chunks\n",
    "\n",
    "iter = get_file_bytes('structured/images.json')\n",
    "\n",
    "res = client.ffs.stage(bytes_to_chunks(iter), ffs.token)\n",
    "\n",
    "print(\"CLI: > pow ffs stage structured/images.json -t \" + ffs.token)\n",
    "print(\"SUCCESS:\")\n",
    "\n",
    "print(res)"
   ]
  },
  {
   "cell_type": "code",
   "execution_count": null,
   "metadata": {},
   "outputs": [],
   "source": [
    "print('pow ffs -t '+ ffs.token +' stage structured')\n",
    "# > Success! Staged asset in FFS hot storage with cid: bafybeieuwuxn7hxjpofqgqhmsbpn4qtxoqwknjmp7vejsuos47khzytm5a"
   ]
  },
  {
   "cell_type": "code",
   "execution_count": 86,
   "metadata": {},
   "outputs": [
    {
     "name": "stdout",
     "output_type": "stream",
     "text": [
      "CLI: > pow ffs config push QmbG4Ecbx9MVMn3UKtUzegm7ScuMzjTxAG7h9zYRuffhyY -o -t 531532e6-80e3-446e-9b44-1d677a9f6824\n"
     ]
    }
   ],
   "source": [
    "print('CLI: > pow ffs config push ' + res.cid+ ' -o -t ' +ffs.token)"
   ]
  },
  {
   "cell_type": "code",
   "execution_count": 87,
   "metadata": {},
   "outputs": [
    {
     "name": "stdout",
     "output_type": "stream",
     "text": [
      "job_id: \"53ce325c-0b5e-4328-b8dd-95b06366a6aa\"\n",
      "\n",
      "log_entry {\n",
      "  cid: \"QmbG4Ecbx9MVMn3UKtUzegm7ScuMzjTxAG7h9zYRuffhyY\"\n",
      "  jid: \"53ce325c-0b5e-4328-b8dd-95b06366a6aa\"\n",
      "  time: 1601245195\n",
      "  msg: \"Hot-Storage execution ran successfully.\"\n",
      "}\n",
      "\n",
      "log_entry {\n",
      "  cid: \"QmbG4Ecbx9MVMn3UKtUzegm7ScuMzjTxAG7h9zYRuffhyY\"\n",
      "  jid: \"53ce325c-0b5e-4328-b8dd-95b06366a6aa\"\n",
      "  time: 1601245195\n",
      "  msg: \"Ensuring Cold-Storage satisfies the configuration...\"\n",
      "}\n",
      "\n",
      "log_entry {\n",
      "  cid: \"QmbG4Ecbx9MVMn3UKtUzegm7ScuMzjTxAG7h9zYRuffhyY\"\n",
      "  jid: \"53ce325c-0b5e-4328-b8dd-95b06366a6aa\"\n",
      "  time: 1601245195\n",
      "  msg: \"Current replication factor is lower than desired, making 1 new deals...\"\n",
      "}\n",
      "\n",
      "log_entry {\n",
      "  cid: \"QmbG4Ecbx9MVMn3UKtUzegm7ScuMzjTxAG7h9zYRuffhyY\"\n",
      "  jid: \"53ce325c-0b5e-4328-b8dd-95b06366a6aa\"\n",
      "  time: 1601245195\n",
      "  msg: \"Calculating piece size...\"\n",
      "}\n",
      "\n",
      "log_entry {\n",
      "  cid: \"QmbG4Ecbx9MVMn3UKtUzegm7ScuMzjTxAG7h9zYRuffhyY\"\n",
      "  jid: \"53ce325c-0b5e-4328-b8dd-95b06366a6aa\"\n",
      "  time: 1601245196\n",
      "  msg: \"Estimated piece size is 16777216 bytes.\"\n",
      "}\n",
      "\n",
      "log_entry {\n",
      "  cid: \"QmbG4Ecbx9MVMn3UKtUzegm7ScuMzjTxAG7h9zYRuffhyY\"\n",
      "  jid: \"53ce325c-0b5e-4328-b8dd-95b06366a6aa\"\n",
      "  time: 1601245196\n",
      "  msg: \"Proposing deal to miner t01000 with 500000000 attoFIL per epoch...\"\n",
      "}\n",
      "\n",
      "log_entry {\n",
      "  cid: \"QmbG4Ecbx9MVMn3UKtUzegm7ScuMzjTxAG7h9zYRuffhyY\"\n",
      "  jid: \"53ce325c-0b5e-4328-b8dd-95b06366a6aa\"\n",
      "  time: 1601245198\n",
      "  msg: \"Watching deals unfold...\"\n",
      "}\n",
      "\n",
      "log_entry {\n",
      "  cid: \"QmbG4Ecbx9MVMn3UKtUzegm7ScuMzjTxAG7h9zYRuffhyY\"\n",
      "  jid: \"53ce325c-0b5e-4328-b8dd-95b06366a6aa\"\n",
      "  time: 1601245228\n",
      "  msg: \"Deal with miner t01000 changed state to StorageDealSealing\"\n",
      "}\n",
      "\n",
      "log_entry {\n",
      "  cid: \"QmbG4Ecbx9MVMn3UKtUzegm7ScuMzjTxAG7h9zYRuffhyY\"\n",
      "  jid: \"53ce325c-0b5e-4328-b8dd-95b06366a6aa\"\n",
      "  time: 1601245288\n",
      "  msg: \"Deal 2 with miner t01000 is active on-chain\"\n",
      "}\n",
      "\n",
      "log_entry {\n",
      "  cid: \"QmbG4Ecbx9MVMn3UKtUzegm7ScuMzjTxAG7h9zYRuffhyY\"\n",
      "  jid: \"53ce325c-0b5e-4328-b8dd-95b06366a6aa\"\n",
      "  time: 1601245288\n",
      "  msg: \"Cold-Storage execution ran successfully.\"\n",
      "}\n",
      "\n",
      "log_entry {\n",
      "  cid: \"QmbG4Ecbx9MVMn3UKtUzegm7ScuMzjTxAG7h9zYRuffhyY\"\n",
      "  jid: \"53ce325c-0b5e-4328-b8dd-95b06366a6aa\"\n",
      "  time: 1601245288\n",
      "  msg: \"Job 53ce325c-0b5e-4328-b8dd-95b06366a6aa execution finished with status Success.\"\n",
      "}\n",
      "\n"
     ]
    }
   ],
   "source": [
    "output = client.ffs.push(res.cid, ffs.token)\n",
    "print(output)\n",
    "\n",
    "\n",
    "logs = client.ffs.logs(res.cid, ffs.token)\n",
    "for response in logs:\n",
    "    print(response)\n",
    "    if response.log_entry.msg.find(\"execution finished with status\") > -1:\n",
    "        break"
   ]
  },
  {
   "cell_type": "code",
   "execution_count": 90,
   "metadata": {},
   "outputs": [
    {
     "name": "stdout",
     "output_type": "stream",
     "text": [
      "CLI: > pow ffs info QmbG4Ecbx9MVMn3UKtUzegm7ScuMzjTxAG7h9zYRuffhyY -t 531532e6-80e3-446e-9b44-1d677a9f6824\n"
     ]
    }
   ],
   "source": [
    "check = client.ffs.info(res.cid, ffs.token)\n",
    "print(\"CLI: > pow ffs info \"+ res.cid +\" -t \" + ffs.token)"
   ]
  },
  {
   "cell_type": "code",
   "execution_count": 91,
   "metadata": {},
   "outputs": [
    {
     "name": "stdout",
     "output_type": "stream",
     "text": [
      "pow ffs config push bafybeibci43tstbfcsj2upsubsh7xo273j5dhghbwwqk66ohqf4qp3lgzu -o -t 531532e6-80e3-446e-9b44-1d677a9f6824\n"
     ]
    }
   ],
   "source": [
    "print('pow ffs config push ' + 'bafybeibci43tstbfcsj2upsubsh7xo273j5dhghbwwqk66ohqf4qp3lgzu' + ' -o -t ' +ffs.token)"
   ]
  },
  {
   "cell_type": "code",
   "execution_count": 59,
   "metadata": {},
   "outputs": [
    {
     "name": "stdout",
     "output_type": "stream",
     "text": [
      "job_id: \"8e4b5140-9c91-4e2c-bcf4-20752ddf7ba5\"\n",
      "\n",
      "log_entry {\n",
      "  cid: \"bafybeieuwuxn7hxjpofqgqhmsbpn4qtxoqwknjmp7vejsuos47khzytm5a\"\n",
      "  jid: \"8e4b5140-9c91-4e2c-bcf4-20752ddf7ba5\"\n",
      "  time: 1601236407\n",
      "  msg: \"Hot-Storage execution ran successfully.\"\n",
      "}\n",
      "\n",
      "log_entry {\n",
      "  cid: \"bafybeieuwuxn7hxjpofqgqhmsbpn4qtxoqwknjmp7vejsuos47khzytm5a\"\n",
      "  jid: \"8e4b5140-9c91-4e2c-bcf4-20752ddf7ba5\"\n",
      "  time: 1601236407\n",
      "  msg: \"Ensuring Cold-Storage satisfies the configuration...\"\n",
      "}\n",
      "\n",
      "log_entry {\n",
      "  cid: \"bafybeieuwuxn7hxjpofqgqhmsbpn4qtxoqwknjmp7vejsuos47khzytm5a\"\n",
      "  jid: \"8e4b5140-9c91-4e2c-bcf4-20752ddf7ba5\"\n",
      "  time: 1601236407\n",
      "  msg: \"Current replication factor is lower than desired, making 1 new deals...\"\n",
      "}\n",
      "\n",
      "log_entry {\n",
      "  cid: \"bafybeieuwuxn7hxjpofqgqhmsbpn4qtxoqwknjmp7vejsuos47khzytm5a\"\n",
      "  jid: \"8e4b5140-9c91-4e2c-bcf4-20752ddf7ba5\"\n",
      "  time: 1601236407\n",
      "  msg: \"Calculating piece size...\"\n",
      "}\n",
      "\n",
      "log_entry {\n",
      "  cid: \"bafybeieuwuxn7hxjpofqgqhmsbpn4qtxoqwknjmp7vejsuos47khzytm5a\"\n",
      "  jid: \"8e4b5140-9c91-4e2c-bcf4-20752ddf7ba5\"\n",
      "  time: 1601236941\n",
      "  msg: \"Estimated piece size is 536870912 bytes.\"\n",
      "}\n",
      "\n",
      "log_entry {\n",
      "  cid: \"bafybeieuwuxn7hxjpofqgqhmsbpn4qtxoqwknjmp7vejsuos47khzytm5a\"\n",
      "  jid: \"8e4b5140-9c91-4e2c-bcf4-20752ddf7ba5\"\n",
      "  time: 1601236941\n",
      "  msg: \"Proposing deal to miner t01000 with 500000000 attoFIL per epoch...\"\n",
      "}\n",
      "\n"
     ]
    },
    {
     "ename": "KeyboardInterrupt",
     "evalue": "",
     "output_type": "error",
     "traceback": [
      "\u001b[0;31m---------------------------------------------------------------------------\u001b[0m",
      "\u001b[0;31mKeyboardInterrupt\u001b[0m                         Traceback (most recent call last)",
      "\u001b[0;32m<ipython-input-59-2bd44722815d>\u001b[0m in \u001b[0;36m<module>\u001b[0;34m\u001b[0m\n\u001b[1;32m      5\u001b[0m \u001b[0;34m\u001b[0m\u001b[0m\n\u001b[1;32m      6\u001b[0m \u001b[0mlogs\u001b[0m \u001b[0;34m=\u001b[0m \u001b[0mclient\u001b[0m\u001b[0;34m.\u001b[0m\u001b[0mffs\u001b[0m\u001b[0;34m.\u001b[0m\u001b[0mlogs\u001b[0m\u001b[0;34m(\u001b[0m\u001b[0mprojectCid\u001b[0m\u001b[0;34m,\u001b[0m \u001b[0mffs\u001b[0m\u001b[0;34m.\u001b[0m\u001b[0mtoken\u001b[0m\u001b[0;34m)\u001b[0m\u001b[0;34m\u001b[0m\u001b[0;34m\u001b[0m\u001b[0m\n\u001b[0;32m----> 7\u001b[0;31m \u001b[0;32mfor\u001b[0m \u001b[0mresponse\u001b[0m \u001b[0;32min\u001b[0m \u001b[0mlogs\u001b[0m\u001b[0;34m:\u001b[0m\u001b[0;34m\u001b[0m\u001b[0;34m\u001b[0m\u001b[0m\n\u001b[0m\u001b[1;32m      8\u001b[0m     \u001b[0mprint\u001b[0m\u001b[0;34m(\u001b[0m\u001b[0mresponse\u001b[0m\u001b[0;34m)\u001b[0m\u001b[0;34m\u001b[0m\u001b[0;34m\u001b[0m\u001b[0m\n\u001b[1;32m      9\u001b[0m     \u001b[0;32mif\u001b[0m \u001b[0mresponse\u001b[0m\u001b[0;34m.\u001b[0m\u001b[0mlog_entry\u001b[0m\u001b[0;34m.\u001b[0m\u001b[0mmsg\u001b[0m\u001b[0;34m.\u001b[0m\u001b[0mfind\u001b[0m\u001b[0;34m(\u001b[0m\u001b[0;34m\"execution finished with status\"\u001b[0m\u001b[0;34m)\u001b[0m \u001b[0;34m>\u001b[0m \u001b[0;34m-\u001b[0m\u001b[0;36m1\u001b[0m\u001b[0;34m:\u001b[0m\u001b[0;34m\u001b[0m\u001b[0;34m\u001b[0m\u001b[0m\n",
      "\u001b[0;32m~/.pyenv/versions/3.8.2/lib/python3.8/site-packages/grpc/_channel.py\u001b[0m in \u001b[0;36m__next__\u001b[0;34m(self)\u001b[0m\n\u001b[1;32m    414\u001b[0m \u001b[0;34m\u001b[0m\u001b[0m\n\u001b[1;32m    415\u001b[0m     \u001b[0;32mdef\u001b[0m \u001b[0m__next__\u001b[0m\u001b[0;34m(\u001b[0m\u001b[0mself\u001b[0m\u001b[0;34m)\u001b[0m\u001b[0;34m:\u001b[0m\u001b[0;34m\u001b[0m\u001b[0;34m\u001b[0m\u001b[0m\n\u001b[0;32m--> 416\u001b[0;31m         \u001b[0;32mreturn\u001b[0m \u001b[0mself\u001b[0m\u001b[0;34m.\u001b[0m\u001b[0m_next\u001b[0m\u001b[0;34m(\u001b[0m\u001b[0;34m)\u001b[0m\u001b[0;34m\u001b[0m\u001b[0;34m\u001b[0m\u001b[0m\n\u001b[0m\u001b[1;32m    417\u001b[0m \u001b[0;34m\u001b[0m\u001b[0m\n\u001b[1;32m    418\u001b[0m     \u001b[0;32mdef\u001b[0m \u001b[0m_next\u001b[0m\u001b[0;34m(\u001b[0m\u001b[0mself\u001b[0m\u001b[0;34m)\u001b[0m\u001b[0;34m:\u001b[0m\u001b[0;34m\u001b[0m\u001b[0;34m\u001b[0m\u001b[0m\n",
      "\u001b[0;32m~/.pyenv/versions/3.8.2/lib/python3.8/site-packages/grpc/_channel.py\u001b[0m in \u001b[0;36m_next\u001b[0;34m(self)\u001b[0m\n\u001b[1;32m    695\u001b[0m                      and self._state.code is not None))\n\u001b[1;32m    696\u001b[0m \u001b[0;34m\u001b[0m\u001b[0m\n\u001b[0;32m--> 697\u001b[0;31m             \u001b[0m_common\u001b[0m\u001b[0;34m.\u001b[0m\u001b[0mwait\u001b[0m\u001b[0;34m(\u001b[0m\u001b[0mself\u001b[0m\u001b[0;34m.\u001b[0m\u001b[0m_state\u001b[0m\u001b[0;34m.\u001b[0m\u001b[0mcondition\u001b[0m\u001b[0;34m.\u001b[0m\u001b[0mwait\u001b[0m\u001b[0;34m,\u001b[0m \u001b[0m_response_ready\u001b[0m\u001b[0;34m)\u001b[0m\u001b[0;34m\u001b[0m\u001b[0;34m\u001b[0m\u001b[0m\n\u001b[0m\u001b[1;32m    698\u001b[0m             \u001b[0;32mif\u001b[0m \u001b[0mself\u001b[0m\u001b[0;34m.\u001b[0m\u001b[0m_state\u001b[0m\u001b[0;34m.\u001b[0m\u001b[0mresponse\u001b[0m \u001b[0;32mis\u001b[0m \u001b[0;32mnot\u001b[0m \u001b[0;32mNone\u001b[0m\u001b[0;34m:\u001b[0m\u001b[0;34m\u001b[0m\u001b[0;34m\u001b[0m\u001b[0m\n\u001b[1;32m    699\u001b[0m                 \u001b[0mresponse\u001b[0m \u001b[0;34m=\u001b[0m \u001b[0mself\u001b[0m\u001b[0;34m.\u001b[0m\u001b[0m_state\u001b[0m\u001b[0;34m.\u001b[0m\u001b[0mresponse\u001b[0m\u001b[0;34m\u001b[0m\u001b[0;34m\u001b[0m\u001b[0m\n",
      "\u001b[0;32m~/.pyenv/versions/3.8.2/lib/python3.8/site-packages/grpc/_common.py\u001b[0m in \u001b[0;36mwait\u001b[0;34m(wait_fn, wait_complete_fn, timeout, spin_cb)\u001b[0m\n\u001b[1;32m    136\u001b[0m     \u001b[0;32mif\u001b[0m \u001b[0mtimeout\u001b[0m \u001b[0;32mis\u001b[0m \u001b[0;32mNone\u001b[0m\u001b[0;34m:\u001b[0m\u001b[0;34m\u001b[0m\u001b[0;34m\u001b[0m\u001b[0m\n\u001b[1;32m    137\u001b[0m         \u001b[0;32mwhile\u001b[0m \u001b[0;32mnot\u001b[0m \u001b[0mwait_complete_fn\u001b[0m\u001b[0;34m(\u001b[0m\u001b[0;34m)\u001b[0m\u001b[0;34m:\u001b[0m\u001b[0;34m\u001b[0m\u001b[0;34m\u001b[0m\u001b[0m\n\u001b[0;32m--> 138\u001b[0;31m             \u001b[0m_wait_once\u001b[0m\u001b[0;34m(\u001b[0m\u001b[0mwait_fn\u001b[0m\u001b[0;34m,\u001b[0m \u001b[0mMAXIMUM_WAIT_TIMEOUT\u001b[0m\u001b[0;34m,\u001b[0m \u001b[0mspin_cb\u001b[0m\u001b[0;34m)\u001b[0m\u001b[0;34m\u001b[0m\u001b[0;34m\u001b[0m\u001b[0m\n\u001b[0m\u001b[1;32m    139\u001b[0m     \u001b[0;32melse\u001b[0m\u001b[0;34m:\u001b[0m\u001b[0;34m\u001b[0m\u001b[0;34m\u001b[0m\u001b[0m\n\u001b[1;32m    140\u001b[0m         \u001b[0mend\u001b[0m \u001b[0;34m=\u001b[0m \u001b[0mtime\u001b[0m\u001b[0;34m.\u001b[0m\u001b[0mtime\u001b[0m\u001b[0;34m(\u001b[0m\u001b[0;34m)\u001b[0m \u001b[0;34m+\u001b[0m \u001b[0mtimeout\u001b[0m\u001b[0;34m\u001b[0m\u001b[0;34m\u001b[0m\u001b[0m\n",
      "\u001b[0;32m~/.pyenv/versions/3.8.2/lib/python3.8/site-packages/grpc/_common.py\u001b[0m in \u001b[0;36m_wait_once\u001b[0;34m(wait_fn, timeout, spin_cb)\u001b[0m\n\u001b[1;32m    101\u001b[0m \u001b[0;34m\u001b[0m\u001b[0m\n\u001b[1;32m    102\u001b[0m \u001b[0;32mdef\u001b[0m \u001b[0m_wait_once\u001b[0m\u001b[0;34m(\u001b[0m\u001b[0mwait_fn\u001b[0m\u001b[0;34m,\u001b[0m \u001b[0mtimeout\u001b[0m\u001b[0;34m,\u001b[0m \u001b[0mspin_cb\u001b[0m\u001b[0;34m)\u001b[0m\u001b[0;34m:\u001b[0m\u001b[0;34m\u001b[0m\u001b[0;34m\u001b[0m\u001b[0m\n\u001b[0;32m--> 103\u001b[0;31m     \u001b[0mwait_fn\u001b[0m\u001b[0;34m(\u001b[0m\u001b[0mtimeout\u001b[0m\u001b[0;34m=\u001b[0m\u001b[0mtimeout\u001b[0m\u001b[0;34m)\u001b[0m\u001b[0;34m\u001b[0m\u001b[0;34m\u001b[0m\u001b[0m\n\u001b[0m\u001b[1;32m    104\u001b[0m     \u001b[0;32mif\u001b[0m \u001b[0mspin_cb\u001b[0m \u001b[0;32mis\u001b[0m \u001b[0;32mnot\u001b[0m \u001b[0;32mNone\u001b[0m\u001b[0;34m:\u001b[0m\u001b[0;34m\u001b[0m\u001b[0;34m\u001b[0m\u001b[0m\n\u001b[1;32m    105\u001b[0m         \u001b[0mspin_cb\u001b[0m\u001b[0;34m(\u001b[0m\u001b[0;34m)\u001b[0m\u001b[0;34m\u001b[0m\u001b[0;34m\u001b[0m\u001b[0m\n",
      "\u001b[0;32m~/.pyenv/versions/3.8.2/lib/python3.8/threading.py\u001b[0m in \u001b[0;36mwait\u001b[0;34m(self, timeout)\u001b[0m\n\u001b[1;32m    304\u001b[0m             \u001b[0;32melse\u001b[0m\u001b[0;34m:\u001b[0m\u001b[0;34m\u001b[0m\u001b[0;34m\u001b[0m\u001b[0m\n\u001b[1;32m    305\u001b[0m                 \u001b[0;32mif\u001b[0m \u001b[0mtimeout\u001b[0m \u001b[0;34m>\u001b[0m \u001b[0;36m0\u001b[0m\u001b[0;34m:\u001b[0m\u001b[0;34m\u001b[0m\u001b[0;34m\u001b[0m\u001b[0m\n\u001b[0;32m--> 306\u001b[0;31m                     \u001b[0mgotit\u001b[0m \u001b[0;34m=\u001b[0m \u001b[0mwaiter\u001b[0m\u001b[0;34m.\u001b[0m\u001b[0macquire\u001b[0m\u001b[0;34m(\u001b[0m\u001b[0;32mTrue\u001b[0m\u001b[0;34m,\u001b[0m \u001b[0mtimeout\u001b[0m\u001b[0;34m)\u001b[0m\u001b[0;34m\u001b[0m\u001b[0;34m\u001b[0m\u001b[0m\n\u001b[0m\u001b[1;32m    307\u001b[0m                 \u001b[0;32melse\u001b[0m\u001b[0;34m:\u001b[0m\u001b[0;34m\u001b[0m\u001b[0;34m\u001b[0m\u001b[0m\n\u001b[1;32m    308\u001b[0m                     \u001b[0mgotit\u001b[0m \u001b[0;34m=\u001b[0m \u001b[0mwaiter\u001b[0m\u001b[0;34m.\u001b[0m\u001b[0macquire\u001b[0m\u001b[0;34m(\u001b[0m\u001b[0;32mFalse\u001b[0m\u001b[0;34m)\u001b[0m\u001b[0;34m\u001b[0m\u001b[0;34m\u001b[0m\u001b[0m\n",
      "\u001b[0;31mKeyboardInterrupt\u001b[0m: "
     ]
    }
   ],
   "source": [
    "projectCid = 'bafybeieuwuxn7hxjpofqgqhmsbpn4qtxoqwknjmp7vejsuos47khzytm5a'\n",
    "output = client.ffs.push(projectCid, ffs.token)\n",
    "print(output)\n",
    "\n",
    "\n",
    "logs = client.ffs.logs(projectCid, ffs.token)\n",
    "for response in logs:\n",
    "    print(response)\n",
    "    if response.log_entry.msg.find(\"execution finished with status\") > -1:\n",
    "        break"
   ]
  },
  {
   "cell_type": "code",
   "execution_count": null,
   "metadata": {},
   "outputs": [],
   "source": []
  }
 ],
 "metadata": {
  "kernelspec": {
   "display_name": "Python 3",
   "language": "python",
   "name": "python3"
  },
  "language_info": {
   "codemirror_mode": {
    "name": "ipython",
    "version": 3
   },
   "file_extension": ".py",
   "mimetype": "text/x-python",
   "name": "python",
   "nbconvert_exporter": "python",
   "pygments_lexer": "ipython3",
   "version": "3.8.2"
  }
 },
 "nbformat": 4,
 "nbformat_minor": 4
}
